{
 "cells": [
  {
   "cell_type": "code",
   "execution_count": 1,
   "metadata": {},
   "outputs": [
    {
     "name": "stdout",
     "output_type": "stream",
     "text": [
      "Client starting......\n"
     ]
    }
   ],
   "source": [
    "\"\"\"\n",
    "!jupyter nbextension enable --py widgetsnbextension --sys-prefix\n",
    "!jupyter serverextension enable voila --sys-prefix\n",
    "\"\"\"\n",
    "print(\"Client starting......\")"
   ]
  },
  {
   "cell_type": "code",
   "execution_count": 2,
   "metadata": {},
   "outputs": [],
   "source": [
    "import socket\n",
    "import easygui as eg\n",
    "import os\n",
    "import time"
   ]
  },
  {
   "cell_type": "code",
   "execution_count": 3,
   "metadata": {},
   "outputs": [],
   "source": [
    "ip = eg.enterbox(\n",
    "    msg=\"Please acquire the ip address of server. \\n Check with command 'ifconfig' in terminal.\",\n",
    "    title= \"Input IP Address of Server\",\n",
    "    default= \"192.168.16.116\"\n",
    ")\n",
    "port = 3636\n",
    "\n",
    "client = socket.socket(socket.AF_INET, socket.SOCK_STREAM)"
   ]
  },
  {
   "cell_type": "code",
   "execution_count": 4,
   "metadata": {},
   "outputs": [
    {
     "name": "stdout",
     "output_type": "stream",
     "text": [
      "connected to host LAPTOP-CC9I5SJE. \n",
      "\n",
      "/Users/thomas/Desktop/data_process/result/result_0810/2_18_final.csv\n",
      "8896640\n",
      "Uploading: 5.858571325803899% complete, speed: 0.4970703125 MB/s\n",
      "Uploading: 8.989281346665708% complete, speed: 0.7626953125 MB/s\n",
      "Uploading: 14.571613552981798% complete, speed: 1.236328125 MB/s\n",
      "Uploading: 20.959643191137328% complete, speed: 1.7783203125 MB/s\n",
      "Uploading: 26.737644773757285% complete, speed: 2.2685546875 MB/s\n",
      "Uploading: 31.790518667721745% complete, speed: 2.697265625 MB/s\n",
      "Uploading: 38.0058988561974% complete, speed: 3.224609375 MB/s\n",
      "Uploading: 43.783900438817355% complete, speed: 3.71484375 MB/s\n",
      "Uploading: 49.561902021437305% complete, speed: 4.205078125 MB/s\n",
      "Uploading: 55.38594345730523% complete, speed: 4.69921875 MB/s\n",
      "Uploading: 61.67038342565283% complete, speed: 5.232421875 MB/s\n",
      "Uploading: 67.60952449464067% complete, speed: 5.736328125 MB/s\n",
      "Uploading: 73.38752607726063% complete, speed: 6.2265625 MB/s\n",
      "Uploading: 78.44039997122509% complete, speed: 6.6552734375 MB/s\n",
      "Uploading: 84.49464067333285% complete, speed: 7.1689453125 MB/s\n",
      "Uploading: 90.2841522192648% complete, speed: 7.66015625 MB/s\n",
      "Uploading: 95.67081504927704% complete, speed: 8.1171875 MB/s\n",
      "Uploading 2_18_final.csv complete\n"
     ]
    }
   ],
   "source": [
    "try:\n",
    "    client.connect((ip, port))\n",
    "    \n",
    "    msg = client.recv(1024)\n",
    "    \n",
    "    print(msg.decode('utf-8'))\n",
    "except Exception as e:\n",
    "    print(\"Connection failed: \", e)\n",
    "else:\n",
    "    filepath = eg.fileopenbox(title=\"Choose the file you just saved; or any file for test purpose.\")\n",
    "    \n",
    "    print(filepath)\n",
    "    filename = filepath.split(\"/\")[-1]\n",
    "    filesize = os.path.getsize(filepath)\n",
    "    print(filesize)\n",
    "    \n",
    "    \n",
    "    client.send(filename.encode())\n",
    "    time.sleep(1)\n",
    "    client.send(filesize.to_bytes(filesize.bit_length(), byteorder='big'))\n",
    "    time.sleep(1)\n",
    "    try:\n",
    "        start_t = time.time()\n",
    "        curr_t = time.time()\n",
    "        with open(filepath, 'rb') as f:\n",
    "            size = 0\n",
    "            while 1:\n",
    "                f_data = f.read(1024)\n",
    "                \n",
    "                if f_data:\n",
    "                    client.send(f_data)\n",
    "                    size += len(f_data)\n",
    "                    if time.time() - start_t == 0:\n",
    "                        time.sleep(0.5)\n",
    "                    speed = size/(time.time() - start_t)\n",
    "                    if time.time() - curr_t >= 0.5:\n",
    "                        curr_t = time.time()\n",
    "                        print(\"Uploading: {}% complete, speed: {} MB/s\". format(size/filesize*100, float(size/1024/1024)))\n",
    "                else:\n",
    "                    print(\"Uploading {} complete\".format(filename))\n",
    "                    break\n",
    "    except Exception as e:\n",
    "        print(\"reading or sending file caused error: \", e)\n",
    "finally:\n",
    "    client.close()"
   ]
  },
  {
   "cell_type": "code",
   "execution_count": null,
   "metadata": {},
   "outputs": [],
   "source": []
  }
 ],
 "metadata": {
  "kernelspec": {
   "display_name": "Python 3",
   "language": "python",
   "name": "python3"
  },
  "language_info": {
   "codemirror_mode": {
    "name": "ipython",
    "version": 3
   },
   "file_extension": ".py",
   "mimetype": "text/x-python",
   "name": "python",
   "nbconvert_exporter": "python",
   "pygments_lexer": "ipython3",
   "version": "3.8.8"
  }
 },
 "nbformat": 4,
 "nbformat_minor": 2
}
