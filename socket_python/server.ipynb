{
 "cells": [
  {
   "cell_type": "code",
   "execution_count": 1,
   "id": "61b302d2",
   "metadata": {},
   "outputs": [
    {
     "name": "stdout",
     "output_type": "stream",
     "text": [
      "Server starting......\n"
     ]
    }
   ],
   "source": [
    "\"\"\"\n",
    "!jupyter nbextension enable --py widgetsnbextension --sys-prefix\n",
    "!jupyter serverextension enable voila --sys-prefix\n",
    "\"\"\"\n",
    "print(\"Server starting......\")"
   ]
  },
  {
   "cell_type": "code",
   "execution_count": 2,
   "id": "b243d3d0",
   "metadata": {},
   "outputs": [],
   "source": [
    "import socket\n",
    "import os\n",
    "import threading\n",
    "import time\n",
    "import easygui as eg"
   ]
  },
  {
   "cell_type": "code",
   "execution_count": 3,
   "id": "f97f8ab1",
   "metadata": {},
   "outputs": [],
   "source": [
    "savepath = eg.diropenbox(title=\"Choose place to save file\", default=\".\")\n",
    "if not os.path.exists(savepath):\n",
    "    os.mkdir(savepath)"
   ]
  },
  {
   "cell_type": "code",
   "execution_count": 4,
   "id": "deb7bc25",
   "metadata": {},
   "outputs": [
    {
     "name": "stdout",
     "output_type": "stream",
     "text": [
      "211.98.71.195\n",
      "Server online, waiting for client connection\n",
      "client: ('192.168.249.244', 50750), connected to the server\n",
      "Uploading: 0.008912835170256476% complete, speed: 0.0009765625 MB/s\n",
      "Uploading: 7.932701827627335% complete, speed: 0.869171142578125 MB/s\n",
      "Uploading: 18.204396203724084% complete, speed: 1.9946212768554688 MB/s\n",
      "Uploading: 29.06844596101905% complete, speed: 3.1849746704101562 MB/s\n",
      "Uploading: 40.07113208412637% complete, speed: 4.3905181884765625 MB/s\n",
      "Uploading: 51.08642151321663% complete, speed: 5.597442626953125 MB/s\n",
      "Uploading: 63.9291903098333% complete, speed: 7.004600524902344 MB/s\n",
      "Uploading: 79.29262030303815% complete, speed: 8.687942504882812 MB/s\n",
      "Uploading: 95.8207768110311% complete, speed: 10.4989013671875 MB/s\n",
      "Downloading noTerminal_final.csv complete\n"
     ]
    }
   ],
   "source": [
    "class Server:\n",
    "    def __init__(self):\n",
    "        # Create socket\n",
    "        self.server = socket.socket(socket.AF_INET, socket.SOCK_STREAM)\n",
    "        \n",
    "        # get host name\n",
    "        self.host = socket.gethostname()\n",
    "\n",
    "        # set prot\n",
    "        self.port = 3636\n",
    "        \n",
    "        # set ip\n",
    "        self.ip = socket.gethostbyname(socket.gethostname())\n",
    "        print(self.ip)\n",
    "        \n",
    "        # bind address\n",
    "        self.server.bind( ('192.168.249.207', self.port) )\n",
    "        \n",
    "        # set Max connection\n",
    "        self.server.listen(12)\n",
    "        print(\"Server online, waiting for client connection\")\n",
    "        \n",
    "    def server100(self):\n",
    "        # set client connection\n",
    "        client, addr = self.server.accept()\n",
    "        print(f'client: {str(addr)}, connected to the server')\n",
    "        msg = f'connected to host {self.host}. \\r\\n'\n",
    "        client.send(msg.encode('utf-8'))\n",
    "\n",
    "        # Create a threading for client after connection\n",
    "        t1 = threading.Thread(self.taskfilethread(client))\n",
    "        # set threading guard\n",
    "        t1.setDaemon(True)\n",
    "        # start\n",
    "        t1.start()\n",
    "            \n",
    "    def taskfilethread(self, client):\n",
    "        # recv file name and size\n",
    "        filename = client.recv(1024)\n",
    "        filesize = client.recv(1024)\n",
    "        # decode them\n",
    "        filename = filename.decode()\n",
    "        filesize = int.from_bytes(filesize, byteorder='big')\n",
    "        \n",
    "        # recv file\n",
    "        try:\n",
    "            f = open(savepath + \"/\" + filename, 'wb')\n",
    "            size = 0\n",
    "            start_t = time.time()\n",
    "            curr_t = time.time()\n",
    "            while 1:\n",
    "                # recv data\n",
    "                f_data = client.recv(1024)\n",
    "                \n",
    "                if f_data:\n",
    "                    f.write(f_data)\n",
    "                    size += len(f_data)\n",
    "                    if time.time() - start_t == 0:\n",
    "                        time.sleep(0.5)\n",
    "                    speed = size/(time.time() - start_t)\n",
    "                    if time.time() - curr_t >= 0.5:\n",
    "                        curr_t = time.time()\n",
    "                        print(\"Downlaoding: {}% complete, speed: {} MB/s\". format(size/filesize*100, float(size/1024/1024)))\n",
    "                        \n",
    "                else:\n",
    "                    break              \n",
    "        except Exception as e:\n",
    "            print(\"error when receiving: \", e)\n",
    "        else:\n",
    "            print(\"Downloading {} complete\".format(filename))\n",
    "        finally:\n",
    "            f.flush()\n",
    "            f.close()\n",
    "            return\n",
    "            \n",
    "if __name__ == '__main__':\n",
    "    server = Server()\n",
    "    server.server100()"
   ]
  },
  {
   "cell_type": "code",
   "execution_count": null,
   "id": "41abd31f",
   "metadata": {},
   "outputs": [],
   "source": []
  }
 ],
 "metadata": {
  "kernelspec": {
   "display_name": "Python 3",
   "language": "python",
   "name": "python3"
  },
  "language_info": {
   "codemirror_mode": {
    "name": "ipython",
    "version": 3
   },
   "file_extension": ".py",
   "mimetype": "text/x-python",
   "name": "python",
   "nbconvert_exporter": "python",
   "pygments_lexer": "ipython3",
   "version": "3.8.8"
  }
 },
 "nbformat": 4,
 "nbformat_minor": 5
}
