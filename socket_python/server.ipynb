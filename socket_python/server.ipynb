{
 "cells": [
  {
   "cell_type": "code",
   "execution_count": null,
   "metadata": {},
   "outputs": [],
   "source": [
    "import socket\n",
    "import os\n",
    "import threading\n",
    "import time\n",
    "import easygui as eg"
   ]
  },
  {
   "cell_type": "code",
   "execution_count": null,
   "metadata": {},
   "outputs": [],
   "source": [
    "savepath = eg.diropenbox(title=\"Choose place to save file\")\n",
    "if not os.path.exists(savepath):\n",
    "    os.mkdir(savepath)"
   ]
  },
  {
   "cell_type": "code",
   "execution_count": null,
   "metadata": {},
   "outputs": [],
   "source": [
    "class Server:\n",
    "    def __init__(self):\n",
    "        # Create socket\n",
    "        self.server = socket.socket(socket.AF_INET, socket.SOCK_STREAM)\n",
    "        \n",
    "        # get host name\n",
    "        self.host = socket.gethostname()\n",
    "        print(self.host)\n",
    "        \n",
    "        # set prot\n",
    "        self.port = 3636\n",
    "        \n",
    "        # bind address\n",
    "        self.server.bind( ('', self.port) )\n",
    "        \n",
    "        # set Max connection\n",
    "        self.server.listen(12)\n",
    "        print(\"Server online, waiting for client connection\")\n",
    "        \n",
    "    def server100(self):\n",
    "        while 1:\n",
    "            # set client connection\n",
    "            client, addr = self.server.accept()\n",
    "            print(f'client: {str(addr)}, connected to the server')\n",
    "            msg = f'connected to host {self.host}. \\r\\n'\n",
    "            client.send(msg.encode('utf-8'))\n",
    "            \n",
    "            # Create a threading for client after connection\n",
    "            t1 = threading.Thread(self.taskfilethread(client))\n",
    "            # set threading guard\n",
    "            t1.setDaemon(True)\n",
    "            # start\n",
    "            t1.start()\n",
    "            \n",
    "    def taskfilethread(self, client):\n",
    "        # recv file name and size\n",
    "        filename = client.recv(1024)\n",
    "        filesize = client.recv(1024)\n",
    "        # decode them\n",
    "        filename = filename.decode()\n",
    "        filesize = int.from_bytes(filesize, byteorder='big')\n",
    "        \n",
    "        # recv file\n",
    "        try:\n",
    "            f = open(savepath + \"/\" + filename, 'wb')\n",
    "            size = 0\n",
    "            start_t = time.time()\n",
    "            while 1:\n",
    "                # recv data\n",
    "                f_data = client.recv(1024)\n",
    "                \n",
    "                if f_data:\n",
    "                    f.write(f_data)\n",
    "                    size += len(f_data)\n",
    "                    if time.time() - start_t == 0:\n",
    "                        time.sleep(0.5)\n",
    "                    speed = size/(time.time() - start_t)\n",
    "                    print(\"Downloading: {}% complete, speed: {} MB/s\". format(size/filesize*100, float(size/1024/1024)))\n",
    "                else:\n",
    "                    break              \n",
    "        except Exception as e:\n",
    "            print(\"error when receiving: \", e)\n",
    "        else:\n",
    "            print(\"Downloading {} complete\".format(filename))\n",
    "        finally:\n",
    "            f.flush()\n",
    "            f.close()\n",
    "            return\n",
    "            \n",
    "if __name__ == '__main__':\n",
    "    server = Server()\n",
    "    server.server100()\n",
    "    server.close()"
   ]
  },
  {
   "cell_type": "code",
   "execution_count": null,
   "metadata": {},
   "outputs": [],
   "source": []
  }
 ],
 "metadata": {
  "kernelspec": {
   "display_name": "Python 3",
   "language": "python",
   "name": "python3"
  },
  "language_info": {
   "codemirror_mode": {
    "name": "ipython",
    "version": 3
   },
   "file_extension": ".py",
   "mimetype": "text/x-python",
   "name": "python",
   "nbconvert_exporter": "python",
   "pygments_lexer": "ipython3",
   "version": "3.7.1"
  }
 },
 "nbformat": 4,
 "nbformat_minor": 5
}
