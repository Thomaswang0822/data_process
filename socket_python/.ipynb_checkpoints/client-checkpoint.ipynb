{
 "cells": [
  {
   "cell_type": "code",
   "execution_count": 1,
   "metadata": {},
   "outputs": [],
   "source": [
    "import socket\n",
    "import easygui as eg\n",
    "import os\n",
    "import time"
   ]
  },
  {
   "cell_type": "code",
   "execution_count": 2,
   "metadata": {},
   "outputs": [],
   "source": [
    "ip = \"169.254.4.254\"\n",
    "port = 3636\n",
    "\n",
    "client = socket.socket(socket.AF_INET, socket.SOCK_STREAM)"
   ]
  },
  {
   "cell_type": "code",
   "execution_count": 3,
   "metadata": {},
   "outputs": [
    {
     "name": "stdout",
     "output_type": "stream",
     "text": [
      "connected to host thomaswang-GL62MVR-7RFX. \n",
      "\n",
      "/Users/thomas/Desktop/data_process/result0806/2_18_final.csv\n",
      "14808009\n",
      "Uploading: 26.568109190101115% complete, speed: 3.751953125 MB/s\n",
      "Uploading: 34.195549178826134% complete, speed: 4.8291015625 MB/s\n",
      "Uploading: 55.010231287676824% complete, speed: 7.7685546875 MB/s\n",
      "Uploading: 77.98244855199641% complete, speed: 11.0126953125 MB/s\n",
      "Uploading 2_18_final.csv complete\n"
     ]
    }
   ],
   "source": [
    "try:\n",
    "    client.connect((ip, port))\n",
    "    \n",
    "    msg = client.recv(1024)\n",
    "    \n",
    "    print(msg.decode('utf-8'))\n",
    "except Exception as e:\n",
    "    print(\"Connection failed: \", e)\n",
    "else:\n",
    "    filepath = eg.fileopenbox(title=\"Choose a file\")\n",
    "    \n",
    "    print(filepath)\n",
    "    filename = filepath.split(\"/\")[-1]\n",
    "    filesize = os.path.getsize(filepath)\n",
    "    print(filesize)\n",
    "    \n",
    "    \n",
    "    client.send(filename.encode())\n",
    "    time.sleep(1)\n",
    "    client.send(filesize.to_bytes(filesize.bit_length(), byteorder='big'))\n",
    "    time.sleep(1)\n",
    "    try:\n",
    "        start_t = time.time()\n",
    "        curr_t = time.time()\n",
    "        with open(filepath, 'rb') as f:\n",
    "            size = 0\n",
    "            while 1:\n",
    "                f_data = f.read(1024)\n",
    "                \n",
    "                if f_data:\n",
    "                    client.send(f_data)\n",
    "                    size += len(f_data)\n",
    "                    if time.time() - start_t == 0:\n",
    "                        time.sleep(0.5)\n",
    "                    speed = size/(time.time() - start_t)\n",
    "                    if time.time() - curr_t >= 0.5:\n",
    "                        curr_t = time.time()\n",
    "                        print(\"Uploading: {}% complete, speed: {} MB/s\". format(size/filesize*100, float(size/1024/1024)))\n",
    "                else:\n",
    "                    print(\"Uploading {} complete\".format(filename))\n",
    "                    break\n",
    "    except Exception as e:\n",
    "        print(\"reading or sending file caused error: \", e)\n",
    "finally:\n",
    "    client.close()"
   ]
  },
  {
   "cell_type": "code",
   "execution_count": null,
   "metadata": {},
   "outputs": [],
   "source": []
  }
 ],
 "metadata": {
  "kernelspec": {
   "display_name": "Python 3",
   "language": "python",
   "name": "python3"
  },
  "language_info": {
   "codemirror_mode": {
    "name": "ipython",
    "version": 3
   },
   "file_extension": ".py",
   "mimetype": "text/x-python",
   "name": "python",
   "nbconvert_exporter": "python",
   "pygments_lexer": "ipython3",
   "version": "3.7.1"
  }
 },
 "nbformat": 4,
 "nbformat_minor": 2
}
