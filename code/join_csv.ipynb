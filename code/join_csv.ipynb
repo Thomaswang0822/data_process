{
 "cells": [
  {
   "cell_type": "code",
   "execution_count": null,
   "id": "aa888e40",
   "metadata": {},
   "outputs": [],
   "source": [
    "import pandas as pd\n",
    "import numpy as np\n",
    "import voila"
   ]
  },
  {
   "cell_type": "code",
   "execution_count": null,
   "id": "5c77e77e",
   "metadata": {},
   "outputs": [],
   "source": [
    "\n",
    "DATA_DIR = \"../processed/processed_0810/\"\n",
    "SCENE = \"2_24\"\n",
    "PKG_ID = [9,10,5,20]\n",
    "FILE_PATH = DATA_DIR + SCENE + \"pkg{}_del.csv\".format(7)\n",
    "\n",
    "OUT_DIR = \"../result/result_0810/\"\n",
    "OUTPUT_PATH = OUT_DIR+SCENE+\"_final.csv\""
   ]
  },
  {
   "cell_type": "code",
   "execution_count": null,
   "id": "928c10f8",
   "metadata": {},
   "outputs": [],
   "source": [
    "final_df = pd.read_csv(FILE_PATH, index_col=\"simFrame\", low_memory=False)\n",
    "print(final_df.shape)\n",
    "row_nums = [final_df.shape[0]]\n",
    "col_nums = [final_df.shape[1]]\n",
    "for pkg in PKG_ID:\n",
    "    FILE_PATH = DATA_DIR + SCENE + \"pkg{}_del.csv\".format(pkg)\n",
    "    df = pd.read_csv(FILE_PATH, index_col=\"simFrame\", low_memory=False)\n",
    "    \n",
    "    print(df.shape)\n",
    "    \n",
    "    row_nums.append(df.shape[0])\n",
    "    col_nums.append(df.shape[1])\n",
    "    \n",
    "    final_df = final_df.join(df, rsuffix=\"_pkg{}\".format(pkg), how='inner')\n",
    "    print(final_df.shape)\n",
    "    \n",
    "    \n",
    "#assert final_df.shape[0] == min(row_nums)\n",
    "final_df.head(10)"
   ]
  },
  {
   "cell_type": "code",
   "execution_count": null,
   "id": "eb46e4c2",
   "metadata": {},
   "outputs": [],
   "source": [
    "final_df = final_df[~final_df.index.duplicated(keep='first')]\n",
    "final_df.shape"
   ]
  },
  {
   "cell_type": "code",
   "execution_count": null,
   "id": "5cba285f",
   "metadata": {},
   "outputs": [],
   "source": [
    "final_df"
   ]
  },
  {
   "cell_type": "code",
   "execution_count": null,
   "id": "0bda5d72",
   "metadata": {},
   "outputs": [],
   "source": [
    "# Remember to check row number with TARGET\n",
    "final_df.to_csv(OUTPUT_PATH)"
   ]
  },
  {
   "cell_type": "code",
   "execution_count": null,
   "id": "fc6778c8",
   "metadata": {},
   "outputs": [],
   "source": []
  }
 ],
 "metadata": {
  "kernelspec": {
   "display_name": "Python 3",
   "language": "python",
   "name": "python3"
  },
  "language_info": {
   "codemirror_mode": {
    "name": "ipython",
    "version": 3
   },
   "file_extension": ".py",
   "mimetype": "text/x-python",
   "name": "python",
   "nbconvert_exporter": "python",
   "pygments_lexer": "ipython3",
   "version": "3.8.8"
  }
 },
 "nbformat": 4,
 "nbformat_minor": 5
}
